{
 "cells": [
  {
   "cell_type": "code",
   "execution_count": 144,
   "id": "8162f5f8-49c3-46ac-8aad-58a1eb2ce1f3",
   "metadata": {},
   "outputs": [],
   "source": [
    "import glob\n",
    "import nltk\n",
    "from nltk.sentiment import SentimentIntensityAnalyzer\n"
   ]
  },
  {
   "cell_type": "code",
   "execution_count": 145,
   "id": "17f21083-1ef6-44c4-84c9-0c2a1170ee26",
   "metadata": {},
   "outputs": [],
   "source": [
    "analyzer = SentimentIntensityAnalyzer"
   ]
  },
  {
   "cell_type": "code",
   "execution_count": 146,
   "id": "ff23a57d-798a-4678-b460-8187fcbdacae",
   "metadata": {},
   "outputs": [],
   "source": [
    "\n",
    "filepaths = sorted(glob.glob(\"diary/*.txt\"))\n",
    "\n"
   ]
  },
  {
   "cell_type": "code",
   "execution_count": 147,
   "id": "a7763cb1-0ce4-45bd-a439-e402a656633a",
   "metadata": {},
   "outputs": [],
   "source": [
    "positivity = []\n",
    "negativity = []"
   ]
  },
  {
   "cell_type": "code",
   "execution_count": 156,
   "id": "dbde5c30-7534-42e0-8563-ec2535e86d43",
   "metadata": {},
   "outputs": [
    {
     "ename": "TypeError",
     "evalue": "SentimentIntensityAnalyzer.polarity_scores() missing 1 required positional argument: 'text'",
     "output_type": "error",
     "traceback": [
      "\u001b[1;31m---------------------------------------------------------------------------\u001b[0m",
      "\u001b[1;31mTypeError\u001b[0m                                 Traceback (most recent call last)",
      "Cell \u001b[1;32mIn[156], line 3\u001b[0m\n\u001b[0;32m      1\u001b[0m \u001b[38;5;28;01mwith\u001b[39;00m \u001b[38;5;28mopen\u001b[39m(filepath) \u001b[38;5;28;01mas\u001b[39;00m file:\n\u001b[0;32m      2\u001b[0m         content \u001b[38;5;241m=\u001b[39m file\u001b[38;5;241m.\u001b[39mread()\n\u001b[1;32m----> 3\u001b[0m scores \u001b[38;5;241m=\u001b[39m \u001b[43manalyzer\u001b[49m\u001b[38;5;241;43m.\u001b[39;49m\u001b[43mpolarity_scores\u001b[49m\u001b[43m(\u001b[49m\u001b[43mcontent\u001b[49m\u001b[43m)\u001b[49m\n",
      "\u001b[1;31mTypeError\u001b[0m: SentimentIntensityAnalyzer.polarity_scores() missing 1 required positional argument: 'text'"
     ]
    }
   ],
   "source": [
    "for filepath in filepaths:\n",
    "    with open(filepath) as file:\n",
    "        contents = file.read()\n",
    "    scores = analyzer.polarity_scores(content)"
   ]
  },
  {
   "cell_type": "code",
   "execution_count": 133,
   "id": "9d7d7d5a-aeb6-4893-8c80-48421e591e67",
   "metadata": {},
   "outputs": [
    {
     "data": {
      "text/plain": [
       "['diary\\\\2023-10-21.txt',\n",
       " 'diary\\\\2023-10-22.txt',\n",
       " 'diary\\\\2023-10-23.txt',\n",
       " 'diary\\\\2023-10-24.txt',\n",
       " 'diary\\\\2023-10-25.txt',\n",
       " 'diary\\\\2023-10-26.txt',\n",
       " 'diary\\\\2023-10-27.txt']"
      ]
     },
     "execution_count": 133,
     "metadata": {},
     "output_type": "execute_result"
    }
   ],
   "source": [
    "filepaths"
   ]
  },
  {
   "cell_type": "code",
   "execution_count": 103,
   "id": "fd7fec6a-e770-4977-b864-275615cbe65d",
   "metadata": {},
   "outputs": [
    {
     "ename": "AttributeError",
     "evalue": "'str' object has no attribute 'srip'",
     "output_type": "error",
     "traceback": [
      "\u001b[1;31m---------------------------------------------------------------------------\u001b[0m",
      "\u001b[1;31mAttributeError\u001b[0m                            Traceback (most recent call last)",
      "Cell \u001b[1;32mIn[103], line 1\u001b[0m\n\u001b[1;32m----> 1\u001b[0m date \u001b[38;5;241m=\u001b[39m \u001b[43m[\u001b[49m\u001b[43mname\u001b[49m\u001b[38;5;241;43m.\u001b[39;49m\u001b[43msrip\u001b[49m\u001b[43m(\u001b[49m\u001b[38;5;124;43m\"\u001b[39;49m\u001b[38;5;124;43m.txt\u001b[39;49m\u001b[38;5;124;43m\"\u001b[39;49m\u001b[43m)\u001b[49m\u001b[38;5;241;43m.\u001b[39;49m\u001b[43mstrip\u001b[49m\u001b[43m(\u001b[49m\u001b[38;5;124;43m\"\u001b[39;49m\u001b[38;5;124;43mdiary\u001b[39;49m\u001b[38;5;130;43;01m\\\\\u001b[39;49;00m\u001b[38;5;124;43m\"\u001b[39;49m\u001b[43m)\u001b[49m\u001b[43m \u001b[49m\u001b[38;5;28;43;01mfor\u001b[39;49;00m\u001b[43m \u001b[49m\u001b[43mname\u001b[49m\u001b[43m \u001b[49m\u001b[38;5;129;43;01min\u001b[39;49;00m\u001b[43m \u001b[49m\u001b[43mfile_path\u001b[49m\u001b[43m]\u001b[49m\n",
      "Cell \u001b[1;32mIn[103], line 1\u001b[0m, in \u001b[0;36m<listcomp>\u001b[1;34m(.0)\u001b[0m\n\u001b[1;32m----> 1\u001b[0m date \u001b[38;5;241m=\u001b[39m [\u001b[43mname\u001b[49m\u001b[38;5;241;43m.\u001b[39;49m\u001b[43msrip\u001b[49m(\u001b[38;5;124m\"\u001b[39m\u001b[38;5;124m.txt\u001b[39m\u001b[38;5;124m\"\u001b[39m)\u001b[38;5;241m.\u001b[39mstrip(\u001b[38;5;124m\"\u001b[39m\u001b[38;5;124mdiary\u001b[39m\u001b[38;5;130;01m\\\\\u001b[39;00m\u001b[38;5;124m\"\u001b[39m) \u001b[38;5;28;01mfor\u001b[39;00m name \u001b[38;5;129;01min\u001b[39;00m file_path]\n",
      "\u001b[1;31mAttributeError\u001b[0m: 'str' object has no attribute 'srip'"
     ]
    }
   ],
   "source": [
    "date = [name.srip(\".txt\").strip(\"diary\\\\\") for name in file_path]"
   ]
  },
  {
   "cell_type": "code",
   "execution_count": 6,
   "id": "b94dfbc6-a02f-40c1-ba98-e2c85d37da51",
   "metadata": {},
   "outputs": [
    {
     "data": {
      "text/plain": [
       "['2023-10-21',\n",
       " '2023-10-22',\n",
       " '2023-10-23',\n",
       " '2023-10-24',\n",
       " '2023-10-25',\n",
       " '2023-10-26',\n",
       " '2023-10-27']"
      ]
     },
     "execution_count": 6,
     "metadata": {},
     "output_type": "execute_result"
    }
   ],
   "source": [
    "date = date[1:]\n",
    "date"
   ]
  },
  {
   "cell_type": "code",
   "execution_count": 88,
   "id": "481faf51-dcb2-47a4-9263-40d7d3409938",
   "metadata": {},
   "outputs": [
    {
     "data": {
      "text/plain": [
       "['Our board exam results have not yet been declared and already the news of malpractice is making the rounds. There are cases of attempted bribery reported for admissions into esteemed colleges. Such news is really very disheartening. Especially when coupled with the various reservation schemes already existing. This leaves no scope for children like me who do not fit in any minority groups nor can sum up large amounts for donation. This is a very serious problem, and I am really threatened by it. Even if the malpractices are ignored or hushed up, as very often they will be, the fact that these students will not excel in their courses is inevitable, thus causing a loss of the countryâ€™s resources employed in their training. I do not know what to look forward to anymore. I just hope and pray that such practices are tracked and nipped in the bud.',\n",
       " ' am very sorry for not writing to you last night. I was extremely tired after enjoying the entire day at Shangrila Resort. I could not even keep my eyes open. The place was so huge that by the end of the day we still felt like we did not see the entire place. It had one large pool for adults, two pools for children over 10 years, and a really shallow yet very cute pool for small children. There was a large waterfall as well. The entire place was surrounded by grass and trees. It felt as if we were in a real jungle. They also had speakers hidden in the trees giving sound effects of wild animals. The food too was fresh and filling. It gave us the energy to go on playing. We had a great time and wished we could stay there forever.',\n",
       " 'Last night, I had a very strange dream. I saw that two of my friends and I were going to attend my cousinâ€™s wedding reception. On our way a rather strange-looking man intercepted us. Despite our protests, he insisted on narrating to us his tale of resentment. He looked unnaturally old with skinny limbs and glittering eyes, and the tale he narrated seemed too surreal to be true. He said he used to be a mariner who shot an innocent albatross who was guiding their ship out of the perilous ice at sea. This act enraged a powerful spirit who used to love the bird. His actions resulted in the death of his crewmates. Also, he was doomed to feel a great deal of agony which was relieved only when he narrated the tale to somebody. The dream taught me a valuable lesson: Never hurt the hand which helps you.',\n",
       " 'Today during history class our teacher shared with us stories of a few freedom fighters. They intrigued me a lot as I could never imagine people giving up everything valuable to them for the nation and its people. These people are models of inspiration, especially in todayâ€™s day and age. The chief concern of every person these days is limited to his own luxuries and to that of his family. This has to change. As we see through history, progress can be achieved only when people give up their own interests in favour of the betterment of the larger society. The freedom fighters did their part in the struggle for our independence. It is our duty now to safeguard this freedom handed to us as a gift. We need to learn from them the value of selfless service and perseverance to do our part and give back to our country for the love and care we receive.',\n",
       " 'Tomorrow is the judgment day as they call itâ€”the elocution competition that I have been preparing for all these days. I will be participating in it tomorrow. Just the thought of it has me shaken. My class teacher knows my insecurities about speaking to crowds. Maybe thatâ€™s why she forced me to take this up. I wonder what will happen tomorrow. I prepared a fairly good speech with my elder brotherâ€™s help. I am proud of him, though I will never admit it to him. He has a good command of the language. He is confident that I will do a good job. I hope I do. Iâ€™ve already practised it so many times that I can recite it in my sleep. I have to go to sleep now or else I will be late for school.',\n",
       " 'Today was the worst day of my life. It was as if I had woken up from the wrong side of the bed. To begin with, I was late for school since there was no water supply in the morning. Then I stumbled and fell while on my way to my first class. If all this was not enough, I was scolded by Miss Amera for not carrying my Math test book and the funny part is that the book was actually in my bag. Only I couldnâ€™t find it during the class. I cannot understand how so many incidents could occur in one single day. There must be something seriously wrong with me. The sad part is that I could not control what happened. All I can do is go to sleep now and just hope for a positive start tomorrow.',\n",
       " 'Today was my first day at school. Since we recently shifted to this city, everything here is new to me. It is a little difficult and often frustrating to get adjusted to everything, especially the people. The school was great though. My biggest struggle today was to find my class before the assembly began. Once I succeeded in wading through the swarms of students everything was fine. For the most part, the day was uneventful, except for me being asked to introduce myself over and over again by every teacher that came. I made a few new friends too. Raman, my bench partner, plays football. He invited me to play with him after school but I had to decline since I hadnâ€™t informed mom. I will go tomorrow though. I am sure Iâ€™ll have great fun. I have already begun to like this place.']"
      ]
     },
     "execution_count": 88,
     "metadata": {},
     "output_type": "execute_result"
    }
   ],
   "source": [
    "import re\n",
    "pattern = re.compile(\"([^\\n\\n]+)\")\n",
    "findings = re.findall(pattern, all_books)\n",
    "findings"
   ]
  },
  {
   "cell_type": "code",
   "execution_count": 89,
   "id": "5f8ab15a-3b10-4a5a-8266-62dac8ffd25e",
   "metadata": {},
   "outputs": [
    {
     "data": {
      "text/plain": [
       "7"
      ]
     },
     "execution_count": 89,
     "metadata": {},
     "output_type": "execute_result"
    }
   ],
   "source": [
    "len(findings)"
   ]
  },
  {
   "cell_type": "code",
   "execution_count": 55,
   "id": "5373eab7-e2ba-46ad-965c-c3d960039fe5",
   "metadata": {},
   "outputs": [
    {
     "name": "stderr",
     "output_type": "stream",
     "text": [
      "[nltk_data] Downloading package vader_lexicon to\n",
      "[nltk_data]     C:\\Users\\silas\\AppData\\Roaming\\nltk_data...\n",
      "[nltk_data]   Package vader_lexicon is already up-to-date!\n"
     ]
    },
    {
     "data": {
      "text/plain": [
       "True"
      ]
     },
     "execution_count": 55,
     "metadata": {},
     "output_type": "execute_result"
    }
   ],
   "source": [
    "import nltk\n",
    "from nltk.sentiment import SentimentIntensityAnalyzer\n",
    "nltk.download('vader_lexicon')"
   ]
  },
  {
   "cell_type": "code",
   "execution_count": 143,
   "id": "9e5bd34a-b8b2-45bc-9c37-fef6726fca55",
   "metadata": {},
   "outputs": [
    {
     "name": "stdout",
     "output_type": "stream",
     "text": [
      "{'neg': 0.138, 'neu': 0.798, 'pos': 0.065, 'compound': -0.8757}\n",
      "{'neg': 0.03, 'neu': 0.8, 'pos': 0.17, 'compound': 0.966}\n",
      "{'neg': 0.118, 'neu': 0.668, 'pos': 0.214, 'compound': 0.9346}\n",
      "{'neg': 0.046, 'neu': 0.716, 'pos': 0.238, 'compound': 0.9898}\n",
      "{'neg': 0.062, 'neu': 0.779, 'pos': 0.159, 'compound': 0.9301}\n",
      "{'neg': 0.125, 'neu': 0.813, 'pos': 0.062, 'compound': -0.8176}\n",
      "{'neg': 0.034, 'neu': 0.789, 'pos': 0.177, 'compound': 0.969}\n"
     ]
    }
   ],
   "source": [
    "import re\n",
    "\n",
    "pattern = re.compile(\"([^\\n\\n]+)\")\n",
    "chapters = re.split(pattern, all_books)\n",
    "chapters = [chapter for chapter in chapters if chapter.strip()]  # Remove empty strings\n",
    "\n",
    "analyzer = SentimentIntensityAnalyzer()\n",
    "\n",
    "for chapter in chapters:\n",
    "    scores = analyzer.polarity_scores(chapter)\n",
    "    print(scores)\n",
    "    "
   ]
  },
  {
   "cell_type": "code",
   "execution_count": 94,
   "id": "cfea84f6-2e4e-4287-9dc6-d9bb4ab93a1b",
   "metadata": {},
   "outputs": [
    {
     "ename": "ModuleNotFoundError",
     "evalue": "No module named 'plotly'",
     "output_type": "error",
     "traceback": [
      "\u001b[1;31m---------------------------------------------------------------------------\u001b[0m",
      "\u001b[1;31mModuleNotFoundError\u001b[0m                       Traceback (most recent call last)",
      "Cell \u001b[1;32mIn[94], line 1\u001b[0m\n\u001b[1;32m----> 1\u001b[0m \u001b[38;5;28;01mimport\u001b[39;00m \u001b[38;5;21;01mplotly\u001b[39;00m\u001b[38;5;21;01m.\u001b[39;00m\u001b[38;5;21;01mexpress\u001b[39;00m \u001b[38;5;28;01mas\u001b[39;00m \u001b[38;5;21;01mpx\u001b[39;00m\n",
      "\u001b[1;31mModuleNotFoundError\u001b[0m: No module named 'plotly'"
     ]
    }
   ],
   "source": [
    "import plotly.express as px\n"
   ]
  }
 ],
 "metadata": {
  "kernelspec": {
   "display_name": "Python 3 (ipykernel)",
   "language": "python",
   "name": "python3"
  },
  "language_info": {
   "codemirror_mode": {
    "name": "ipython",
    "version": 3
   },
   "file_extension": ".py",
   "mimetype": "text/x-python",
   "name": "python",
   "nbconvert_exporter": "python",
   "pygments_lexer": "ipython3",
   "version": "3.11.4"
  }
 },
 "nbformat": 4,
 "nbformat_minor": 5
}
